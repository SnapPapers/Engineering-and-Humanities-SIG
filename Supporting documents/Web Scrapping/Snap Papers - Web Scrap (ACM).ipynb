{
 "cells": [
  {
   "cell_type": "markdown",
   "id": "a57ee13b",
   "metadata": {},
   "source": [
    "# Research Papers Web Scraping from ACM Digital Library\n",
    "\n",
    "## Team Snap Papers\n",
    "\n",
    "This notebook explains the webscraping of research papers from the ACM Library depending on the members of Humanities & Engineering Special Interest Group"
   ]
  },
  {
   "cell_type": "markdown",
   "id": "24adcca7",
   "metadata": {},
   "source": [
    "Import the necessary libraries"
   ]
  },
  {
   "cell_type": "code",
   "execution_count": 1,
   "id": "51e80285",
   "metadata": {},
   "outputs": [],
   "source": [
    "import requests\n",
    "from bs4 import BeautifulSoup\n",
    "import re\n",
    "import pandas as pd\n",
    "import time"
   ]
  },
  {
   "cell_type": "markdown",
   "id": "1bad46be",
   "metadata": {},
   "source": [
    "Define the Profile ID of the author:"
   ]
  },
  {
   "cell_type": "code",
   "execution_count": 2,
   "id": "4e6a7e6e",
   "metadata": {},
   "outputs": [],
   "source": [
    "profile_id = '81321495239'"
   ]
  },
  {
   "cell_type": "markdown",
   "id": "813968b5",
   "metadata": {},
   "source": [
    "The response is get through the method <code>requests.get</code>"
   ]
  },
  {
   "cell_type": "code",
   "execution_count": 3,
   "id": "399d5524",
   "metadata": {},
   "outputs": [],
   "source": [
    "headers = {'user-agent':'Mozilla/5.0 (Windows NT 10.0; Win64; x64) AppleWebKit/537.36 (KHTML, like Gecko) Chrome/91.0.4472.114 Safari/537.36'}\n",
    "url = 'https://dl.acm.org/profile/{}/publications?Role=author&startPage=0&pageSize=50'.format(profile_id)\n",
    "\n",
    "response = requests.get(url, headers=headers)"
   ]
  },
  {
   "cell_type": "markdown",
   "id": "ab3bd4a8",
   "metadata": {},
   "source": [
    "Generate the Paper Structure object"
   ]
  },
  {
   "cell_type": "code",
   "execution_count": 4,
   "id": "7544d149",
   "metadata": {},
   "outputs": [],
   "source": [
    "paper_doc = BeautifulSoup(response.text,'html.parser')"
   ]
  },
  {
   "cell_type": "markdown",
   "id": "9c35644f",
   "metadata": {},
   "source": [
    "Get all the information"
   ]
  },
  {
   "cell_type": "code",
   "execution_count": 5,
   "id": "3daa4750",
   "metadata": {},
   "outputs": [
    {
     "name": "stdout",
     "output_type": "stream",
     "text": [
      "Doctoral Theses\n",
      "Knowledge Management Using SpiCE\n",
      "Timothy Joseph Maciag | Hepting, Daryl | Arbuthnott, Katherine | Delbaere, Marjorie\n",
      "\n",
      "The idea of Knowledge Management (KM) is continually evolving. A traditional and popular idea of KM is one that emphasizes the activity of transforming data to information, and information to knowledge. Another popular idea of KM emphasizes the ...\n",
      "0\n",
      "0\n",
      "https://dl.acm.org/doi/book/10.5555/AAI28140953\n",
      "--------------------------\n",
      "\n",
      "Supporting Sustainable Decision-Making: Evaluation of Previous Support Tools with New Designs\n",
      "Timothy Maciag\n",
      "\n",
      "Revision with unchanged content. The quality of the natural environment has become one of the primary concerns in present society. However, very little has been done to illuminate the various connections between our household purchases and the effect ...\n",
      "0\n",
      "0\n",
      "https://dl.acm.org/doi/book/10.5555/2378550\n",
      "--------------------------\n",
      "Article\n",
      "Web-Based Support of Crop Selection for Climate Adaptation\n",
      "Daryl H. Hepting | Timothy Maciag | Harvey Hill\n",
      "HICSS '12: Proceedings of the 2012 45th Hawaii International Conference on System Sciences•January 2012, pp 1227-1236• https://doi.org/10.1109/HICSS.2012.640\n",
      "Farmers must now consider climate adaptation amongst other variables when they select crops for the coming year. A changing climate means traditional crop choices may not perform well. Yet, it may be difficult to trust recommendations about new crop ...\n",
      "0\n",
      "0\n",
      "https://dl.acm.org/doi/10.1109/HICSS.2012.640\n",
      "--------------------------\n",
      "Article\n",
      "Constructing Collaborative Online Communities for Visualizing Spimes\n",
      "Timothy Maciag | Daryl H. Hepting\n",
      "WI-IAT '10: Proceedings of the 2010 IEEE/WIC/ACM International Conference on Web Intelligence and Intelligent Agent Technology - Volume 03•August 2010, pp 436-439• https://doi.org/10.1109/WI-IAT.2010.297\n",
      "The digital age has brought about new platforms for collaboration which have provided interesting and effective ways of enabling people to engage in a wide variety of socially-driven activities. One only needs to observe the many free/libre open source ...\n",
      "0\n",
      "0\n",
      "https://dl.acm.org/doi/10.1109/WI-IAT.2010.297\n",
      "--------------------------\n",
      "Article\n",
      "Classification of facial photograph sorting performance based on verbal descriptions\n",
      "Daryl H. Hepting | Richard Spring | Timothy Maciag | Katherine Arbuthnott | Dominik Ślęzak\n",
      "RSCTC'10: Proceedings of the 7th international conference on Rough sets and current trends in computing•June 2010, pp 570-579\n",
      "Eyewitness identification remains an important element in judicial proceedings. It is very convincing, yet it is not very accurate. To better understand eyewitness identification, we began by examining how people understand similarity. This paper ...\n",
      "1\n",
      "0\n",
      "https://dl.acm.org/doi/10.5555/1876210.1876282\n",
      "--------------------------\n",
      "Article\n",
      "A Rough Sets Approach for Personalized Support of Face Recognition\n",
      "Daryl H. Hepting | Timothy Maciag | Richard Spring | Katherine Arbuthnott | Dominik Ślęzak\n",
      "RSFDGrC '09: Proceedings of the 12th International Conference on Rough Sets, Fuzzy Sets, Data Mining and Granular Computing•December 2009, pp 201-208• https://doi.org/10.1007/978-3-642-10646-0_24\n",
      "The activity of facial recognition is routine for most people; yet describing the process of recognition, or describing a face to be recognized reveals a great deal of complexity inherent in the activity. Eyewitness identification remains an important ...\n",
      "2\n",
      "0\n",
      "https://dl.acm.org/doi/10.1007/978-3-642-10646-0_24\n",
      "--------------------------\n",
      "review-article\n",
      "Creating synergy between usability courses and open source software projects\n",
      "Daryl H. Hepting | Lijuan Peng | Timothy J. Maciag | David Gerhard | Brien Maguire\n",
      "ACM SIGCSE Bulletin, Volume 40, Issue 2•June 2008, pp 120-123 • https://doi.org/10.1145/1383602.1383649\n",
      "In this paper, we discuss our experience in offering a usability course with projects taken from an active open source software development project. We describe what was done in the class inside the larger context of the usability of open source ...\n",
      "12\n",
      "234\n",
      "https://dl.acm.org/doi/10.1145/1383602.1383649\n",
      "--------------------------\n",
      "Article\n",
      "Evaluation of a Dominance-Based Rough Set Approach to Interface Design\n",
      "Timothy Maciag | Daryl H. Hepting | Robert J. Hilderman | Dominik Slezak\n",
      "FBIT '07: Proceedings of the 2007 Frontiers in the Convergence of Bioscience and Information Technologies•October 2007, pp 409-416• https://doi.org/10.1109/FBIT.2007.54\n",
      "This paper explores refinements to methods used in a procedure being developed by the authors to personalize user interfaces for online shopping support tools. In the authors' original procedure, classical methods in rough set theory are used in ...\n",
      "1\n",
      "0\n",
      "https://dl.acm.org/doi/10.1109/FBIT.2007.54\n",
      "--------------------------\n",
      "Article\n",
      "Mining associations for interface design\n",
      "Timothy Maciag | Daryl H. Hepting | Dominik Ślezak | Robert J. Hilderman\n",
      "RSKT'07: Proceedings of the 2nd international conference on Rough sets and knowledge technology•May 2007, pp 109-117\n",
      "Consumer research has indicated that consumers use compensatory and non-compensatory decision strategies when formulating their purchasing decisions. Compensatory decision-making strategies are used when the consumer fully rationalizes their decision ...\n",
      "0\n",
      "3\n",
      "https://dl.acm.org/doi/10.5555/1767771.1767787\n",
      "--------------------------\n",
      "Article\n",
      "Consumer Modelling in Support of Interface Design\n",
      "Timothy J. Maciag | Dominik Slezak | Daryl H. Hepting\n",
      "ICHIT '06: Proceedings of the 2006 International Conference on Hybrid Information Technology - Volume 02•November 2006, pp 153-160\n",
      "There is significant interest in developing new methods to design more effective user interfaces for decision support tools in online shopping environments. Many online companies have already begun to provide their consumers with enhanced user interface ...\n",
      "1\n",
      "0\n",
      "https://dl.acm.org/doi/10.5555/1193209.1193513\n",
      "--------------------------\n"
     ]
    }
   ],
   "source": [
    "paper_names = []\n",
    "for paper in paper_doc.find_all(\"li\", {\"class\" : \"issue-item-container\"}):\n",
    "    paper_type = ''\n",
    "    paper_title = ''\n",
    "    author_section = []\n",
    "    abstract = ''\n",
    "    details = ''\n",
    "    citations = '0'\n",
    "    metrics = '0'\n",
    "    authors_list = []\n",
    "    authors_list_string = ''\n",
    "    url = ''\n",
    "    \n",
    "    if paper.find('div', {'class' : 'issue-heading'}) is not None:\n",
    "        paper_type = paper.find('div', {'class' : 'issue-heading'}).text\n",
    "    paper_title = paper.find('h5', {'class': 'issue-item__title'}).text\n",
    "    author_section = paper.find(\"ul\", {\"title\" : \"list of authors\"})\n",
    "    abstract = paper.find(\"div\", {\"class\" : \"issue-item__abstract\"}).find(\"p\").text\n",
    "    if paper.find(\"span\", {\"class\" : \"citation\"}) is not None:\n",
    "        citations = paper.find(\"span\", {\"class\" : \"citation\"}).find(\"span\").text\n",
    "    if paper.find(\"span\", {\"class\" : \"metric\"}) is not None:\n",
    "        metrics = paper.find(\"span\", {\"class\" : \"metric\"}).find(\"span\").text\n",
    "    details = paper.find(\"div\", {\"class\" : \"issue-item__detail\"}).text\n",
    "    url = \"https://dl.acm.org\"+paper.find(\"h5\", {\"class\" : \"issue-item__title\"}).find(\"a\").get(\"href\")\n",
    "    \n",
    "    print(paper_type)\n",
    "    print(paper_title)\n",
    "    for author in author_section.find_all(\"a\"):\n",
    "        authors_list.append(author.get(\"title\"))\n",
    "    authors_list_string = ' | '.join(authors_list)\n",
    "    print(authors_list_string)\n",
    "    print(details)\n",
    "    print(abstract)\n",
    "    print(citations)\n",
    "    print(metrics)\n",
    "    print(url)\n",
    "    \n",
    "    print(\"--------------------------\")"
   ]
  },
  {
   "cell_type": "markdown",
   "id": "2a77ba95",
   "metadata": {},
   "source": [
    "Prepare the dictionary of information"
   ]
  },
  {
   "cell_type": "code",
   "execution_count": 6,
   "id": "3c883b44",
   "metadata": {},
   "outputs": [],
   "source": [
    "paper_repos_dict = {\n",
    "                    'Paper Title' : [],\n",
    "                    'Publication Type' : [],\n",
    "                    'Authors' : [],\n",
    "                    'Abstract' : [],\n",
    "                    'Publication' : [],\n",
    "                    'Citations' : [],\n",
    "                    'Metrics' : [],\n",
    "                    'URL' : [] }\n",
    "\n",
    "# adding information in repository\n",
    "def add_in_paper_repo(paper_title, paper_type, authors_list_string, abstract, details, citations, metrics, url):\n",
    "    paper_repos_dict['Paper Title'] = paper_title\n",
    "    paper_repos_dict['Publication Type'] = paper_type\n",
    "    paper_repos_dict['Authors'] = authors_list_string\n",
    "    paper_repos_dict['Abstract'] = abstract\n",
    "    paper_repos_dict['Publication'] = details\n",
    "    paper_repos_dict['Citations'] = citations\n",
    "    paper_repos_dict['Metrics'] = metrics\n",
    "    paper_repos_dict['URL'] = url\n",
    "\n",
    "    return paper_repos_dict"
   ]
  },
  {
   "cell_type": "markdown",
   "id": "9a7237a8",
   "metadata": {},
   "source": [
    "Scrap the data and generating CSV file"
   ]
  },
  {
   "cell_type": "code",
   "execution_count": 7,
   "id": "569dacd4",
   "metadata": {},
   "outputs": [
    {
     "name": "stdout",
     "output_type": "stream",
     "text": [
      "{'Paper Title': 'Knowledge Management Using SpiCE', 'Publication Type': 'Doctoral Theses', 'Authors': 'Timothy Joseph Maciag | Hepting, Daryl | Arbuthnott, Katherine | Delbaere, Marjorie', 'Abstract': 'The idea of Knowledge Management (KM) is continually evolving. A traditional and popular idea of KM is one that emphasizes the activity of transforming data to information, and information to knowledge. Another popular idea of KM emphasizes the ...', 'Publication': '', 'Citations': '0', 'Metrics': '0', 'URL': 'https://dl.acm.org/doi/book/10.5555/AAI28140953'}\n",
      "--------------------------\n",
      "{'Paper Title': 'Supporting Sustainable Decision-Making: Evaluation of Previous Support Tools with New Designs', 'Publication Type': '', 'Authors': 'Timothy Maciag', 'Abstract': 'Revision with unchanged content. The quality of the natural environment has become one of the primary concerns in present society. However, very little has been done to illuminate the various connections between our household purchases and the effect ...', 'Publication': '', 'Citations': '0', 'Metrics': '0', 'URL': 'https://dl.acm.org/doi/book/10.5555/2378550'}\n",
      "--------------------------\n",
      "{'Paper Title': 'Web-Based Support of Crop Selection for Climate Adaptation', 'Publication Type': 'Article', 'Authors': 'Daryl H. Hepting | Timothy Maciag | Harvey Hill', 'Abstract': 'Farmers must now consider climate adaptation amongst other variables when they select crops for the coming year. A changing climate means traditional crop choices may not perform well. Yet, it may be difficult to trust recommendations about new crop ...', 'Publication': \"HICSS '12: Proceedings of the 2012 45th Hawaii International Conference on System Sciences•January 2012, pp 1227-1236• https://doi.org/10.1109/HICSS.2012.640\", 'Citations': '0', 'Metrics': '0', 'URL': 'https://dl.acm.org/doi/10.1109/HICSS.2012.640'}\n",
      "--------------------------\n",
      "{'Paper Title': 'Constructing Collaborative Online Communities for Visualizing Spimes', 'Publication Type': 'Article', 'Authors': 'Timothy Maciag | Daryl H. Hepting', 'Abstract': 'The digital age has brought about new platforms for collaboration which have provided interesting and effective ways of enabling people to engage in a wide variety of socially-driven activities. One only needs to observe the many free/libre open source ...', 'Publication': \"WI-IAT '10: Proceedings of the 2010 IEEE/WIC/ACM International Conference on Web Intelligence and Intelligent Agent Technology - Volume 03•August 2010, pp 436-439• https://doi.org/10.1109/WI-IAT.2010.297\", 'Citations': '0', 'Metrics': '0', 'URL': 'https://dl.acm.org/doi/10.1109/WI-IAT.2010.297'}\n",
      "--------------------------\n",
      "{'Paper Title': 'Classification of facial photograph sorting performance based on verbal descriptions', 'Publication Type': 'Article', 'Authors': 'Daryl H. Hepting | Richard Spring | Timothy Maciag | Katherine Arbuthnott | Dominik Ślęzak', 'Abstract': 'Eyewitness identification remains an important element in judicial proceedings. It is very convincing, yet it is not very accurate. To better understand eyewitness identification, we began by examining how people understand similarity. This paper ...', 'Publication': \"RSCTC'10: Proceedings of the 7th international conference on Rough sets and current trends in computing•June 2010, pp 570-579\", 'Citations': '1', 'Metrics': '0', 'URL': 'https://dl.acm.org/doi/10.5555/1876210.1876282'}\n",
      "--------------------------\n",
      "{'Paper Title': 'A Rough Sets Approach for Personalized Support of Face Recognition', 'Publication Type': 'Article', 'Authors': 'Daryl H. Hepting | Timothy Maciag | Richard Spring | Katherine Arbuthnott | Dominik Ślęzak', 'Abstract': 'The activity of facial recognition is routine for most people; yet describing the process of recognition, or describing a face to be recognized reveals a great deal of complexity inherent in the activity. Eyewitness identification remains an important ...', 'Publication': \"RSFDGrC '09: Proceedings of the 12th International Conference on Rough Sets, Fuzzy Sets, Data Mining and Granular Computing•December 2009, pp 201-208• https://doi.org/10.1007/978-3-642-10646-0_24\", 'Citations': '2', 'Metrics': '0', 'URL': 'https://dl.acm.org/doi/10.1007/978-3-642-10646-0_24'}\n",
      "--------------------------\n",
      "{'Paper Title': 'Creating synergy between usability courses and open source software projects', 'Publication Type': 'review-article', 'Authors': 'Daryl H. Hepting | Lijuan Peng | Timothy J. Maciag | David Gerhard | Brien Maguire', 'Abstract': 'In this paper, we discuss our experience in offering a usability course with projects taken from an active open source software development project. We describe what was done in the class inside the larger context of the usability of open source ...', 'Publication': 'ACM SIGCSE Bulletin, Volume 40, Issue 2•June 2008, pp 120-123 • https://doi.org/10.1145/1383602.1383649', 'Citations': '12', 'Metrics': '234', 'URL': 'https://dl.acm.org/doi/10.1145/1383602.1383649'}\n",
      "--------------------------\n",
      "{'Paper Title': 'Evaluation of a Dominance-Based Rough Set Approach to Interface Design', 'Publication Type': 'Article', 'Authors': 'Timothy Maciag | Daryl H. Hepting | Robert J. Hilderman | Dominik Slezak', 'Abstract': \"This paper explores refinements to methods used in a procedure being developed by the authors to personalize user interfaces for online shopping support tools. In the authors' original procedure, classical methods in rough set theory are used in ...\", 'Publication': \"FBIT '07: Proceedings of the 2007 Frontiers in the Convergence of Bioscience and Information Technologies•October 2007, pp 409-416• https://doi.org/10.1109/FBIT.2007.54\", 'Citations': '1', 'Metrics': '0', 'URL': 'https://dl.acm.org/doi/10.1109/FBIT.2007.54'}\n",
      "--------------------------\n",
      "{'Paper Title': 'Mining associations for interface design', 'Publication Type': 'Article', 'Authors': 'Timothy Maciag | Daryl H. Hepting | Dominik Ślezak | Robert J. Hilderman', 'Abstract': 'Consumer research has indicated that consumers use compensatory and non-compensatory decision strategies when formulating their purchasing decisions. Compensatory decision-making strategies are used when the consumer fully rationalizes their decision ...', 'Publication': \"RSKT'07: Proceedings of the 2nd international conference on Rough sets and knowledge technology•May 2007, pp 109-117\", 'Citations': '0', 'Metrics': '3', 'URL': 'https://dl.acm.org/doi/10.5555/1767771.1767787'}\n",
      "--------------------------\n",
      "{'Paper Title': 'Consumer Modelling in Support of Interface Design', 'Publication Type': 'Article', 'Authors': 'Timothy J. Maciag | Dominik Slezak | Daryl H. Hepting', 'Abstract': 'There is significant interest in developing new methods to design more effective user interfaces for decision support tools in online shopping environments. Many online companies have already begun to provide their consumers with enhanced user interface ...', 'Publication': \"ICHIT '06: Proceedings of the 2006 International Conference on Hybrid Information Technology - Volume 02•November 2006, pp 153-160\", 'Citations': '1', 'Metrics': '0', 'URL': 'https://dl.acm.org/doi/10.5555/1193209.1193513'}\n",
      "--------------------------\n"
     ]
    }
   ],
   "source": [
    "paper_names = []\n",
    "data = []\n",
    "for paper in paper_doc.find_all(\"li\", {\"class\" : \"issue-item-container\"}):\n",
    "    paper_type = ''\n",
    "    paper_title = ''\n",
    "    author_section = []\n",
    "    abstract = ''\n",
    "    details = ''\n",
    "    citations = '0'\n",
    "    metrics = '0'\n",
    "    authors_list = []\n",
    "    authors_list_string = ''\n",
    "    url = ''\n",
    "    \n",
    "    if paper.find('div', {'class' : 'issue-heading'}) is not None:\n",
    "        paper_type = paper.find('div', {'class' : 'issue-heading'}).text\n",
    "    paper_title = paper.find('h5', {'class': 'issue-item__title'}).text\n",
    "    author_section = paper.find(\"ul\", {\"title\" : \"list of authors\"})\n",
    "    abstract = paper.find(\"div\", {\"class\" : \"issue-item__abstract\"}).find(\"p\").text\n",
    "    if paper.find(\"span\", {\"class\" : \"citation\"}) is not None:\n",
    "        citations = paper.find(\"span\", {\"class\" : \"citation\"}).find(\"span\").text\n",
    "    if paper.find(\"span\", {\"class\" : \"metric\"}) is not None:\n",
    "        metrics = paper.find(\"span\", {\"class\" : \"metric\"}).find(\"span\").text\n",
    "    details = paper.find(\"div\", {\"class\" : \"issue-item__detail\"}).text\n",
    "    url = \"https://dl.acm.org\"+paper.find(\"h5\", {\"class\" : \"issue-item__title\"}).find(\"a\").get(\"href\")\n",
    "\n",
    "    for author in author_section.find_all(\"a\"):\n",
    "        authors_list.append(author.get(\"title\"))\n",
    "    authors_list_string = ' | '.join(authors_list)\n",
    "    \n",
    "    print(add_in_paper_repo(paper_title, paper_type, authors_list_string, abstract, details, citations, metrics, url))\n",
    "    \n",
    "    print(\"--------------------------\")\n",
    "    \n",
    "    data.append(add_in_paper_repo(paper_title, paper_type, authors_list_string, abstract, details, citations, metrics, url).copy())\n",
    "\n",
    "df = pd.DataFrame(data)\n",
    "df.to_csv(\"./data.csv\", sep='#', encoding='utf-8')"
   ]
  },
  {
   "cell_type": "markdown",
   "id": "469d5891",
   "metadata": {},
   "source": [
    "The reference of the previous code was an article made by Nandini Saini in Medium\n",
    "\n",
    "Saini, N. (2021). Scraping Information of Research Papers on Google Scholar using Python. Medium. Web Article. https://medium.com/@nandinisaini021/scraping-publications-of-aerial-image-research-papers-on-google-scholar-using-python-a0dee9744728"
   ]
  }
 ],
 "metadata": {
  "kernelspec": {
   "display_name": "Python 3 (ipykernel)",
   "language": "python",
   "name": "python3"
  },
  "language_info": {
   "codemirror_mode": {
    "name": "ipython",
    "version": 3
   },
   "file_extension": ".py",
   "mimetype": "text/x-python",
   "name": "python",
   "nbconvert_exporter": "python",
   "pygments_lexer": "ipython3",
   "version": "3.11.5"
  }
 },
 "nbformat": 4,
 "nbformat_minor": 5
}
